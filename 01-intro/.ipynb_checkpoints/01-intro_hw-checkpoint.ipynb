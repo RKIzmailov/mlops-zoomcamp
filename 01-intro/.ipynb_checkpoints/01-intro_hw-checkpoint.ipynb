{
 "cells": [
  {
   "cell_type": "code",
   "execution_count": 6,
   "id": "46d975f9",
   "metadata": {},
   "outputs": [],
   "source": [
    "# !pip install -U -q pandas pyarrow scikit-learn"
   ]
  },
  {
   "cell_type": "code",
   "execution_count": 1,
   "id": "db66d33a",
   "metadata": {},
   "outputs": [],
   "source": [
    "import pandas as pd\n",
    "pd.set_option('display.float_format', lambda x: '%0.4f' % x)\n",
    "\n",
    "import pyarrow\n",
    "import datetime\n",
    "from tqdm.auto import tqdm\n",
    "tqdm.pandas()"
   ]
  },
  {
   "cell_type": "code",
   "execution_count": 2,
   "id": "44ea723c",
   "metadata": {},
   "outputs": [],
   "source": [
    "df_jan = pd.read_parquet('https://d37ci6vzurychx.cloudfront.net/trip-data/yellow_tripdata_2024-01.parquet')\n",
    "df_feb = pd.read_parquet('https://d37ci6vzurychx.cloudfront.net/trip-data/yellow_tripdata_2024-02.parquet')"
   ]
  },
  {
   "cell_type": "code",
   "execution_count": 3,
   "id": "f3d11047",
   "metadata": {},
   "outputs": [
    {
     "name": "stdout",
     "output_type": "stream",
     "text": [
      "(2964624, 19) (3007526, 19)\n"
     ]
    },
    {
     "data": {
      "text/html": [
       "<div>\n",
       "<style scoped>\n",
       "    .dataframe tbody tr th:only-of-type {\n",
       "        vertical-align: middle;\n",
       "    }\n",
       "\n",
       "    .dataframe tbody tr th {\n",
       "        vertical-align: top;\n",
       "    }\n",
       "\n",
       "    .dataframe thead th {\n",
       "        text-align: right;\n",
       "    }\n",
       "</style>\n",
       "<table border=\"1\" class=\"dataframe\">\n",
       "  <thead>\n",
       "    <tr style=\"text-align: right;\">\n",
       "      <th></th>\n",
       "      <th>VendorID</th>\n",
       "      <th>tpep_pickup_datetime</th>\n",
       "      <th>tpep_dropoff_datetime</th>\n",
       "      <th>passenger_count</th>\n",
       "      <th>trip_distance</th>\n",
       "      <th>RatecodeID</th>\n",
       "      <th>store_and_fwd_flag</th>\n",
       "      <th>PULocationID</th>\n",
       "      <th>DOLocationID</th>\n",
       "      <th>payment_type</th>\n",
       "      <th>fare_amount</th>\n",
       "      <th>extra</th>\n",
       "      <th>mta_tax</th>\n",
       "      <th>tip_amount</th>\n",
       "      <th>tolls_amount</th>\n",
       "      <th>improvement_surcharge</th>\n",
       "      <th>total_amount</th>\n",
       "      <th>congestion_surcharge</th>\n",
       "      <th>Airport_fee</th>\n",
       "    </tr>\n",
       "  </thead>\n",
       "  <tbody>\n",
       "    <tr>\n",
       "      <th>0</th>\n",
       "      <td>2</td>\n",
       "      <td>2024-01-01 00:57:55</td>\n",
       "      <td>2024-01-01 01:17:43</td>\n",
       "      <td>1.0000</td>\n",
       "      <td>1.7200</td>\n",
       "      <td>1.0000</td>\n",
       "      <td>N</td>\n",
       "      <td>186</td>\n",
       "      <td>79</td>\n",
       "      <td>2</td>\n",
       "      <td>17.7000</td>\n",
       "      <td>1.0000</td>\n",
       "      <td>0.5000</td>\n",
       "      <td>0.0000</td>\n",
       "      <td>0.0000</td>\n",
       "      <td>1.0000</td>\n",
       "      <td>22.7000</td>\n",
       "      <td>2.5000</td>\n",
       "      <td>0.0000</td>\n",
       "    </tr>\n",
       "    <tr>\n",
       "      <th>1</th>\n",
       "      <td>1</td>\n",
       "      <td>2024-01-01 00:03:00</td>\n",
       "      <td>2024-01-01 00:09:36</td>\n",
       "      <td>1.0000</td>\n",
       "      <td>1.8000</td>\n",
       "      <td>1.0000</td>\n",
       "      <td>N</td>\n",
       "      <td>140</td>\n",
       "      <td>236</td>\n",
       "      <td>1</td>\n",
       "      <td>10.0000</td>\n",
       "      <td>3.5000</td>\n",
       "      <td>0.5000</td>\n",
       "      <td>3.7500</td>\n",
       "      <td>0.0000</td>\n",
       "      <td>1.0000</td>\n",
       "      <td>18.7500</td>\n",
       "      <td>2.5000</td>\n",
       "      <td>0.0000</td>\n",
       "    </tr>\n",
       "    <tr>\n",
       "      <th>2</th>\n",
       "      <td>1</td>\n",
       "      <td>2024-01-01 00:17:06</td>\n",
       "      <td>2024-01-01 00:35:01</td>\n",
       "      <td>1.0000</td>\n",
       "      <td>4.7000</td>\n",
       "      <td>1.0000</td>\n",
       "      <td>N</td>\n",
       "      <td>236</td>\n",
       "      <td>79</td>\n",
       "      <td>1</td>\n",
       "      <td>23.3000</td>\n",
       "      <td>3.5000</td>\n",
       "      <td>0.5000</td>\n",
       "      <td>3.0000</td>\n",
       "      <td>0.0000</td>\n",
       "      <td>1.0000</td>\n",
       "      <td>31.3000</td>\n",
       "      <td>2.5000</td>\n",
       "      <td>0.0000</td>\n",
       "    </tr>\n",
       "  </tbody>\n",
       "</table>\n",
       "</div>"
      ],
      "text/plain": [
       "   VendorID tpep_pickup_datetime tpep_dropoff_datetime  passenger_count   \n",
       "0         2  2024-01-01 00:57:55   2024-01-01 01:17:43           1.0000  \\\n",
       "1         1  2024-01-01 00:03:00   2024-01-01 00:09:36           1.0000   \n",
       "2         1  2024-01-01 00:17:06   2024-01-01 00:35:01           1.0000   \n",
       "\n",
       "   trip_distance  RatecodeID store_and_fwd_flag  PULocationID  DOLocationID   \n",
       "0         1.7200      1.0000                  N           186            79  \\\n",
       "1         1.8000      1.0000                  N           140           236   \n",
       "2         4.7000      1.0000                  N           236            79   \n",
       "\n",
       "   payment_type  fare_amount  extra  mta_tax  tip_amount  tolls_amount   \n",
       "0             2      17.7000 1.0000   0.5000      0.0000        0.0000  \\\n",
       "1             1      10.0000 3.5000   0.5000      3.7500        0.0000   \n",
       "2             1      23.3000 3.5000   0.5000      3.0000        0.0000   \n",
       "\n",
       "   improvement_surcharge  total_amount  congestion_surcharge  Airport_fee  \n",
       "0                 1.0000       22.7000                2.5000       0.0000  \n",
       "1                 1.0000       18.7500                2.5000       0.0000  \n",
       "2                 1.0000       31.3000                2.5000       0.0000  "
      ]
     },
     "execution_count": 3,
     "metadata": {},
     "output_type": "execute_result"
    }
   ],
   "source": [
    "print(df_jan.shape, df_feb.shape)\n",
    "df_jan.head(3)"
   ]
  },
  {
   "cell_type": "markdown",
   "id": "5ac4d126",
   "metadata": {},
   "source": [
    "19 columns are there"
   ]
  },
  {
   "cell_type": "code",
   "execution_count": 4,
   "id": "df27745c",
   "metadata": {},
   "outputs": [
    {
     "name": "stdout",
     "output_type": "stream",
     "text": [
      "<class 'pandas.core.frame.DataFrame'>\n",
      "RangeIndex: 2964624 entries, 0 to 2964623\n",
      "Data columns (total 19 columns):\n",
      " #   Column                 Dtype         \n",
      "---  ------                 -----         \n",
      " 0   VendorID               int32         \n",
      " 1   tpep_pickup_datetime   datetime64[us]\n",
      " 2   tpep_dropoff_datetime  datetime64[us]\n",
      " 3   passenger_count        float64       \n",
      " 4   trip_distance          float64       \n",
      " 5   RatecodeID             float64       \n",
      " 6   store_and_fwd_flag     object        \n",
      " 7   PULocationID           int32         \n",
      " 8   DOLocationID           int32         \n",
      " 9   payment_type           int64         \n",
      " 10  fare_amount            float64       \n",
      " 11  extra                  float64       \n",
      " 12  mta_tax                float64       \n",
      " 13  tip_amount             float64       \n",
      " 14  tolls_amount           float64       \n",
      " 15  improvement_surcharge  float64       \n",
      " 16  total_amount           float64       \n",
      " 17  congestion_surcharge   float64       \n",
      " 18  Airport_fee            float64       \n",
      "dtypes: datetime64[us](2), float64(12), int32(3), int64(1), object(1)\n",
      "memory usage: 395.8+ MB\n"
     ]
    }
   ],
   "source": [
    "df_jan.info()"
   ]
  },
  {
   "cell_type": "code",
   "execution_count": 5,
   "id": "84ba6f26",
   "metadata": {},
   "outputs": [
    {
     "data": {
      "text/plain": [
       "19.8"
      ]
     },
     "execution_count": 5,
     "metadata": {},
     "output_type": "execute_result"
    }
   ],
   "source": [
    "(df_jan.tpep_dropoff_datetime[0] - df_jan.tpep_pickup_datetime[0]).seconds/60"
   ]
  },
  {
   "cell_type": "code",
   "execution_count": 6,
   "id": "8943bd91",
   "metadata": {},
   "outputs": [
    {
     "data": {
      "application/vnd.jupyter.widget-view+json": {
       "model_id": "45cdd23a8f984d9c9bb53ebd56fcb640",
       "version_major": 2,
       "version_minor": 0
      },
      "text/plain": [
       "  0%|          | 0/2964624 [00:00<?, ?it/s]"
      ]
     },
     "metadata": {},
     "output_type": "display_data"
    }
   ],
   "source": [
    "df_jan['duration'] = df_jan.progress_apply(lambda row: (row.tpep_dropoff_datetime - row.tpep_pickup_datetime).seconds/60, axis = 1)"
   ]
  },
  {
   "cell_type": "code",
   "execution_count": 24,
   "id": "c1698476",
   "metadata": {},
   "outputs": [
    {
     "data": {
      "application/vnd.jupyter.widget-view+json": {
       "model_id": "5c771ed3ddc04accbff49bb15f0094af",
       "version_major": 2,
       "version_minor": 0
      },
      "text/plain": [
       "  0%|          | 0/3007526 [00:00<?, ?it/s]"
      ]
     },
     "metadata": {},
     "output_type": "display_data"
    }
   ],
   "source": [
    "df_feb['duration'] = df_feb.progress_apply(lambda row: (row.tpep_dropoff_datetime - row.tpep_pickup_datetime).seconds/60, axis = 1)"
   ]
  },
  {
   "cell_type": "code",
   "execution_count": 7,
   "id": "45524ba4",
   "metadata": {},
   "outputs": [
    {
     "data": {
      "text/plain": [
       "34.602619835326216"
      ]
     },
     "execution_count": 7,
     "metadata": {},
     "output_type": "execute_result"
    }
   ],
   "source": [
    "df_jan['duration'].std(axis = 0)"
   ]
  },
  {
   "cell_type": "code",
   "execution_count": 8,
   "id": "36bffe5b",
   "metadata": {},
   "outputs": [
    {
     "name": "stdout",
     "output_type": "stream",
     "text": [
      "2964624\n",
      "2898907\n",
      "fraction of the records left after you dropped the outliers is 0.977832939354198\n"
     ]
    }
   ],
   "source": [
    "num_with_outliers = df_jan.shape[0]\n",
    "print(num_with_outliers)\n",
    "\n",
    "df_jan.drop(index = df_jan[(df_jan['duration']>60) | (df_jan['duration']<1)].index, inplace = True)\n",
    "\n",
    "num_without_outliers = df_jan.shape[0]\n",
    "print(num_without_outliers)\n",
    "print('fraction of the records left after you dropped the outliers is', num_without_outliers/num_with_outliers)"
   ]
  },
  {
   "cell_type": "code",
   "execution_count": 9,
   "id": "5595cb3f",
   "metadata": {},
   "outputs": [],
   "source": [
    "df_jan.PULocationID = df_jan.PULocationID.astype(str)\n",
    "df_jan.DOLocationID = df_jan.DOLocationID.astype(str)\n",
    "df_feb.PULocationID = df_feb.PULocationID.astype(str)\n",
    "df_feb.DOLocationID = df_feb.DOLocationID.astype(str)"
   ]
  },
  {
   "cell_type": "code",
   "execution_count": 35,
   "id": "adc95eb9",
   "metadata": {},
   "outputs": [
    {
     "data": {
      "text/plain": [
       "(5906433, 522)"
      ]
     },
     "execution_count": 35,
     "metadata": {},
     "output_type": "execute_result"
    }
   ],
   "source": [
    "df = pd.concat([df_jan, df_feb], ignore_index=True)\n",
    "df = pd.get_dummies(df[['PULocationID', 'DOLocationID', 'duration']])\n",
    "df.shape"
   ]
  },
  {
   "cell_type": "code",
   "execution_count": 36,
   "id": "e87ea7bb",
   "metadata": {},
   "outputs": [],
   "source": [
    "# LinearRegression cannot fit all rows due to MemoryError. So lets take a sample\n",
    "sampled_df = df.iloc[:2964624].sample(frac=0.1, random_state=42)"
   ]
  },
  {
   "cell_type": "code",
   "execution_count": 37,
   "id": "30105035",
   "metadata": {},
   "outputs": [],
   "source": [
    "y = sampled_df.duration\n",
    "X = sampled_df.drop(['duration'], axis = 1)"
   ]
  },
  {
   "cell_type": "code",
   "execution_count": 38,
   "id": "14d1d1a4",
   "metadata": {},
   "outputs": [],
   "source": [
    "from sklearn.linear_model import LinearRegression\n",
    "\n",
    "reg = LinearRegression().fit(X, y)"
   ]
  },
  {
   "cell_type": "code",
   "execution_count": 39,
   "id": "302859f0",
   "metadata": {},
   "outputs": [],
   "source": [
    "y_train_pred = reg.predict(X)"
   ]
  },
  {
   "cell_type": "code",
   "execution_count": 40,
   "id": "ffcf10ce",
   "metadata": {},
   "outputs": [
    {
     "name": "stdout",
     "output_type": "stream",
     "text": [
      "RMSE: 8.01201847913152\n"
     ]
    }
   ],
   "source": [
    "from sklearn.metrics import mean_squared_error\n",
    "\n",
    "mse = mean_squared_error(y, y_train_pred)\n",
    "print(f'RMSE: {mse**.5}')"
   ]
  },
  {
   "cell_type": "markdown",
   "id": "727348da",
   "metadata": {},
   "source": [
    "Predict"
   ]
  },
  {
   "cell_type": "code",
   "execution_count": 50,
   "id": "bc2b90aa",
   "metadata": {},
   "outputs": [],
   "source": [
    "sampled_df_test = df.iloc[2964624:].sample(frac=0.1, random_state=42)"
   ]
  },
  {
   "cell_type": "code",
   "execution_count": 51,
   "id": "39557521",
   "metadata": {},
   "outputs": [],
   "source": [
    "y_test = sampled_df_test['duration']\n",
    "X_test = sampled_df_test.drop(['duration'], axis = 1)"
   ]
  },
  {
   "cell_type": "code",
   "execution_count": 52,
   "id": "59ab8260",
   "metadata": {},
   "outputs": [
    {
     "data": {
      "text/plain": [
       "((294181, 521), (294181,))"
      ]
     },
     "execution_count": 52,
     "metadata": {},
     "output_type": "execute_result"
    }
   ],
   "source": [
    "X_test.shape, y_test.shape"
   ]
  },
  {
   "cell_type": "code",
   "execution_count": 53,
   "id": "5db99f63",
   "metadata": {},
   "outputs": [],
   "source": [
    "y_pred =  reg.predict(X_test)"
   ]
  },
  {
   "cell_type": "code",
   "execution_count": 54,
   "id": "0861db94",
   "metadata": {},
   "outputs": [
    {
     "name": "stdout",
     "output_type": "stream",
     "text": [
      "RMSE: 108522946497.87633\n"
     ]
    }
   ],
   "source": [
    "mse = mean_squared_error(y_test, y_pred)\n",
    "print(f'RMSE: {mse**.5}')"
   ]
  },
  {
   "cell_type": "markdown",
   "id": "4e510c57",
   "metadata": {},
   "source": [
    "RMSE: 108522946497.87633"
   ]
  },
  {
   "cell_type": "code",
   "execution_count": null,
   "id": "4006c7c5",
   "metadata": {},
   "outputs": [],
   "source": []
  },
  {
   "cell_type": "code",
   "execution_count": null,
   "id": "f91d5472",
   "metadata": {},
   "outputs": [],
   "source": []
  }
 ],
 "metadata": {
  "kernelspec": {
   "display_name": "Python 3 (ipykernel)",
   "language": "python",
   "name": "python3"
  },
  "language_info": {
   "codemirror_mode": {
    "name": "ipython",
    "version": 3
   },
   "file_extension": ".py",
   "mimetype": "text/x-python",
   "name": "python",
   "nbconvert_exporter": "python",
   "pygments_lexer": "ipython3",
   "version": "3.11.3"
  }
 },
 "nbformat": 4,
 "nbformat_minor": 5
}
